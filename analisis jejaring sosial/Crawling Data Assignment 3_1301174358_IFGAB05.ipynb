{
 "cells": [
  {
   "cell_type": "code",
   "execution_count": 1,
   "metadata": {
    "scrolled": false
   },
   "outputs": [
    {
     "name": "stdout",
     "output_type": "stream",
     "text": [
      "Collecting twitter\n",
      "  Downloading https://files.pythonhosted.org/packages/85/e2/f602e3f584503f03e0389491b251464f8ecfe2596ac86e6b9068fe7419d3/twitter-1.18.0-py2.py3-none-any.whl (54kB)\n",
      "Installing collected packages: twitter\n",
      "Successfully installed twitter-1.18.0\n"
     ]
    }
   ],
   "source": [
    "#import twitter\n",
    "\n",
    "! pip install twitter"
   ]
  },
  {
   "cell_type": "code",
   "execution_count": 2,
   "metadata": {},
   "outputs": [],
   "source": [
    "import tweepy\n",
    "import csv\n",
    "\n",
    "auth = tweepy.OAuthHandler(\"1ib7LsfcqNhO84YSl5ZJpvnIt\", \"R4HzX7HVwma25JI1bqnSWG9YJLduaAHgh7rfHwZ33Oinljavgx\")\n",
    "auth.set_access_token(\"1140472064211443712-PE4zFWbfEXySs6AISo2wIFP2rOm3JV\", \"4ZBjCnHX0mkx2z0yL2VTY0eEuflUTG48KLYveSVlp2wo6\")\n",
    "\n",
    "api = tweepy.API(auth)\n",
    "\n",
    "\n"
   ]
  },
  {
   "cell_type": "code",
   "execution_count": 3,
   "metadata": {},
   "outputs": [],
   "source": [
    "def get_twitter_client():\n",
    "    auth = api\n",
    "    target = tweepy.API(auth, wait_on_rate_limit=True)\n",
    "    return target\n"
   ]
  },
  {
   "cell_type": "code",
   "execution_count": 4,
   "metadata": {
    "scrolled": false
   },
   "outputs": [
    {
     "name": "stdout",
     "output_type": "stream",
     "text": [
      "Masukkan username Twitter target: anya geraldine\n",
      "\n",
      "Tweet Information\n",
      "================================\n",
      "Text:  @H_Mansion Whats the sauce?\n",
      "Geo:  None\n",
      "Coordinates:  None\n",
      "Place:  None\n",
      "\n",
      "User Information\n",
      "================================\n",
      "Location:  \n",
      "Geo Enabled?  False\n",
      "\n",
      "Tweet Information\n",
      "================================\n",
      "Text:  @LAOLIEREN But that looks rigid thp 😣\n",
      "Geo:  None\n",
      "Coordinates:  None\n",
      "Place:  None\n",
      "\n",
      "User Information\n",
      "================================\n",
      "Location:  \n",
      "Geo Enabled?  False\n",
      "\n",
      "Tweet Information\n",
      "================================\n",
      "Text:  @AnimeMiyav @kittyAnanya I've watched this... But i forgot the title\n",
      "Geo:  None\n",
      "Coordinates:  None\n",
      "Place:  None\n",
      "\n",
      "User Information\n",
      "================================\n",
      "Location:  \n",
      "Geo Enabled?  False\n",
      "\n",
      "Tweet Information\n",
      "================================\n",
      "Text:  @hayo_cinema Woahhh... As expected from artist who draw Milfs... 😍😍🔥\n",
      "Geo:  None\n",
      "Coordinates:  None\n",
      "Place:  None\n",
      "\n",
      "User Information\n",
      "================================\n",
      "Location:  \n",
      "Geo Enabled?  False\n",
      "\n",
      "Tweet Information\n",
      "================================\n",
      "Text:  @Akiba3DStudio @nikeswavyx @RUSSELLWIND @megumi_hentai I'm new here ... What do you mean reduction?\n",
      "Geo:  None\n",
      "Coordinates:  None\n",
      "Place:  None\n",
      "\n",
      "User Information\n",
      "================================\n",
      "Location:  \n",
      "Geo Enabled?  False\n"
     ]
    }
   ],
   "source": [
    "user = input(\"Masukkan username Twitter target: \")\n",
    "client = get_twitter_client()\n",
    "\n",
    "for status in tweepy.Cursor(api.user_timeline, screen_name=user).items(5):\n",
    "#     print(status.text)\n",
    "    print()\n",
    "    print(\"Tweet Information\")\n",
    "    print(\"================================\")\n",
    "    print(\"Text: \", status.text) #isi tweet\n",
    "    print(\"Geo: \", status.geo) \n",
    "    print(\"Coordinates: \", status.coordinates)\n",
    "    print(\"Place: \", status.place)\n",
    "    print()\n",
    "\n",
    "    print(\"User Information\")\n",
    "    print(\"================================\")\n",
    "    print(\"Location: \", status.user.location) #location user\n",
    "    print(\"Geo Enabled? \", status.user.geo_enabled) #tweet geo enabled atau tidaknya"
   ]
  },
  {
   "cell_type": "code",
   "execution_count": 8,
   "metadata": {
    "scrolled": false
   },
   "outputs": [
    {
     "name": "stdout",
     "output_type": "stream",
     "text": [
      "masukkan keyword: pasangan\n"
     ]
    }
   ],
   "source": [
    "csvFile = open('dataset.csv', 'a')\n",
    "csvWriter = csv.writer(csvFile)\n",
    "searchString = input(\"masukkan keyword: \")\n",
    "for status in tweepy.Cursor(api.search, q=searchString,since=\"2020-10-01\",until=\"2020-10-11\", tweet_mode='extended').items(5):\n",
    "    print()\n",
    "    print(\"Tweet Information\")\n",
    "    print(\"================================\")\n",
    "    print(\"Text: \", status.full_text) #isi tweet\n",
    "    print(\"Retweet Count: \", status.retweet_count)\n",
    "    print(\"Retweet Count: \", status.favorite_count)\n",
    "    print(\"Geo: \", status.geo)\n",
    "    print(\"Coordinates: \", status.coordinates)\n",
    "    print(\"Place: \", status.place)\n",
    "    print()\n",
    "\n",
    "    print(\"User Information\")\n",
    "    print(\"================================\")\n",
    "    print(\"Username: \", status.user.screen_name) #User Poster\n",
    "    print(\"Location: \", status.user.location) #lokasi user\n",
    "    print(\"Geo Enabled? \", status.user.geo_enabled) #tweet geo enabled atau tidaknya\n",
    "    csvWriter.writerow([status.user.screen_name,status.created_at, status.full_text.encode('utf-8'),])\n",
    "    \n",
    "csvFile.close()"
   ]
  },
  {
   "cell_type": "code",
   "execution_count": 7,
   "metadata": {
    "scrolled": true
   },
   "outputs": [
    {
     "name": "stdout",
     "output_type": "stream",
     "text": [
      "masukkan Username: @Anyaselalubenar\n",
      "Basic information for Anya Geraldine\n",
      "Screen Name: Anyaselalubenar\n",
      "Name:  Anya Geraldine\n",
      "Twitter Unique ID:  1084557086162210816\n",
      "Account created at:  2019-01-13 21:05:34\n"
     ]
    }
   ],
   "source": [
    "searchString = input(\"masukkan Username: \")\n",
    "user = api.get_user(searchString) \n",
    "  \n",
    "# print data user\n",
    "print (\"Basic information for\", user.name)\n",
    "print (\"Screen Name:\", user.screen_name)\n",
    "print (\"Name: \", user.name)\n",
    "print (\"Twitter Unique ID: \", user.id)\n",
    "print (\"Account created at: \", user.created_at)"
   ]
  },
  {
   "cell_type": "code",
   "execution_count": null,
   "metadata": {},
   "outputs": [],
   "source": []
  }
 ],
 "metadata": {
  "kernelspec": {
   "display_name": "Python 3",
   "language": "python",
   "name": "python3"
  },
  "language_info": {
   "codemirror_mode": {
    "name": "ipython",
    "version": 3
   },
   "file_extension": ".py",
   "mimetype": "text/x-python",
   "name": "python",
   "nbconvert_exporter": "python",
   "pygments_lexer": "ipython3",
   "version": "3.7.3"
  }
 },
 "nbformat": 4,
 "nbformat_minor": 4
}
